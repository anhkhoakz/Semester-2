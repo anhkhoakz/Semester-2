{
    "cells": [
        {
            "cell_type": "code",
            "execution_count": 10,
            "metadata": {
                "collapsed": false
            },
            "outputs": [
                {
                    "name": "stdout",
                    "output_type": "stream",
                    "text": [
                        "3.143288\n"
                    ]
                }
            ],
            "source": [
                "import random\n",
                "import math\n",
                "import threading\n",
                "counter = 0\n",
                "seed = 1000000\n",
                "\n",
                "\n",
                "def thread_task(lock):\n",
                "    global counter\n",
                "    for i in range(seed):\n",
                "        x = random.random()\n",
                "        y = random.random()\n",
                "        dist = math.sqrt(x * x + y * y)\n",
                "        if (dist < 1.0):\n",
                "            lock.acquire()\n",
                "            counter = counter + 1\n",
                "            lock.release()\n",
                "\n",
                "\n",
                "def main():\n",
                "    # creating a lock\n",
                "    lock = threading.Lock()\n",
                "\n",
                "    t1 = threading.Thread(target=thread_task, args=(lock, ))\n",
                "    t2 = threading.Thread(target=thread_task, args=(lock, ))\n",
                "\n",
                "    # start threads\n",
                "    t1.start()\n",
                "    t2.start()\n",
                "\n",
                "    # wait until threads finish their job\n",
                "    t1.join()\n",
                "    t2.join()\n",
                "    PI = counter / (seed * 2) * 4\n",
                "    print(PI)\n",
                "\n",
                "\n",
                "main()"
            ]
        },
        {
            "cell_type": "code",
            "execution_count": 8,
            "metadata": {
                "collapsed": false
            },
            "outputs": [
                {
                    "name": "stdout",
                    "output_type": "stream",
                    "text": [
                        "2.939194\n"
                    ]
                }
            ],
            "source": [
                "import random\n",
                "import math\n",
                "import threading\n",
                "counter = 0\n",
                "seed = 1000000\n",
                "\n",
                "\n",
                "def thread_task(lock):\n",
                "    global counter\n",
                "    for i in range(seed):\n",
                "        x = random.random()\n",
                "        y = random.random()\n",
                "        dist = math.sqrt(x * x + y * y)\n",
                "        if (dist < 1.0):\n",
                "            counter = counter + 1\n",
                "\n",
                "\n",
                "def main():\n",
                "    # creating a lock\n",
                "    lock = threading.Lock()\n",
                "\n",
                "    t1 = threading.Thread(target=thread_task, args=(lock, ))\n",
                "    t2 = threading.Thread(target=thread_task, args=(lock, ))\n",
                "\n",
                "    # start threads\n",
                "    t1.start()\n",
                "    t2.start()\n",
                "\n",
                "    # wait until threads finish their job\n",
                "    t1.join()\n",
                "    t2.join()\n",
                "    PI = counter / (seed * 2) * 4\n",
                "    print(PI)\n",
                "\n",
                "\n",
                "main()"
            ]
        }
    ],
    "metadata": {
        "kernelspec": {
            "argv": [
                "/usr/bin/python3",
                "-m",
                "ipykernel",
                "--matplotlib=inline",
                "-c",
                "%config InlineBackend.figure_formats = set(['retina'])\nimport matplotlib; matplotlib.rcParams['figure.figsize'] = (12, 7)",
                "-f",
                "{connection_file}"
            ],
            "display_name": "Python 3 (system-wide)",
            "env": {},
            "language": "python",
            "metadata": {
                "cocalc": {
                    "description": "Python 3 programming language",
                    "priority": 100,
                    "url": "https://www.python.org/"
                }
            },
            "name": "python3",
            "resource_dir": "/ext/jupyter/kernels/python3"
        },
        "language_info": {
            "codemirror_mode": {
                "name": "ipython",
                "version": 3
            },
            "file_extension": ".py",
            "mimetype": "text/x-python",
            "name": "python",
            "nbconvert_exporter": "python",
            "pygments_lexer": "ipython3",
            "version": "3.6.9"
        }
    },
    "nbformat": 4,
    "nbformat_minor": 4
}