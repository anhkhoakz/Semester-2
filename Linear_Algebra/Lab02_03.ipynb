{
    "nbformat": 4,
    "nbformat_minor": 0,
    "metadata": {
        "colab": {
            "provenance": [],
            "authorship_tag": "ABX9TyMY+Xgd5isD+6s5EcSbZ+UN"
        },
        "kernelspec": {
            "name": "python3",
            "display_name": "Python 3"
        },
        "language_info": {
            "name": "python"
        }
    },
    "cells": [
        {
            "cell_type": "markdown",
            "source": [
                "Exercise 1: Using a command to create the new matrices from vectors"
            ],
            "metadata": {
                "id": "_Lwv6LbOTEiu"
            }
        },
        {
            "cell_type": "markdown",
            "source": [],
            "metadata": {
                "id": "4AzD9IFgxeZV"
            }
        },
        {
            "cell_type": "code",
            "execution_count": null,
            "metadata": {
                "id": "HefnXEdGSXSE"
            },
            "outputs": [],
            "source": [
                "import numpy as np\n",
                "\n",
                "x = np.arange(1, 6)\n",
                "b = np.arange(1, 7)\n",
                "c = np.arange(1, 31)\n",
                "d = np.arange(1, 26)\n",
                "\n",
                "a = np.tile(x, (5, 1))\n",
                "a = np.transpose(a)\n",
                "\n",
                "print(a)\n",
                "\n",
                "b = np.tile(b, (6, 1))\n",
                "\n",
                "print(b)\n",
                "\n",
                "c = np.reshape(c, (6, -1))\n",
                "c = np.transpose(c)\n",
                "print(c)\n",
                "\n",
                "d = np.reshape(d, (5, -1))\n",
                "print(d)"
            ]
        },
        {
            "cell_type": "markdown",
            "source": [
                "\n",
                "Exercise 2: Write a command that will create a 5×6 matrix with random integer entries with the element"
            ],
            "metadata": {
                "id": "sEnvTkg_YCiu"
            }
        },
        {
            "cell_type": "code",
            "source": [
                "a = 1\n",
                "b = 11\n",
                "outcome = np.random.randint(a, b, (5, 6))\n",
                "print(outcome)"
            ],
            "metadata": {
                "id": "aagQBrNBYGH9"
            },
            "execution_count": null,
            "outputs": []
        },
        {
            "cell_type": "code",
            "source": [],
            "metadata": {
                "id": "efxkCWRnc0mQ"
            },
            "execution_count": null,
            "outputs": []
        },
        {
            "cell_type": "markdown",
            "source": [
                "\n",
                "Exercise 3: Write a command to flip the matrix A = \\begin{matrix} 1 & 2 & 3 \\\\ 4 & 5 & 6 \\\\ 7 & 8 & 9 \\end{matrix} horizontally as follows B = \\begin{matrix} 3 & 2 & 1 \\\\ 6 & 5 & 4 \\\\ 9 & 8 & 7 \\end{matrix}\n"
            ],
            "metadata": {
                "id": "dLh0vrOgaUuX"
            }
        },
        {
            "cell_type": "code",
            "source": [
                "a = np.arange(1, 10)\n",
                "a = a.reshape(3, 3)\n",
                "a = np.flip(a, axis = 1)\n",
                "print(a)"
            ],
            "metadata": {
                "id": "aFLtQqevaete"
            },
            "execution_count": null,
            "outputs": []
        },
        {
            "cell_type": "markdown",
            "source": [
                "\n",
                "Exercise 4: Write a command to flip the matrix A  = \\begin{matrix} 1 & 2 & 3 \\\\ 4 & 5 & 6 \\\\ 7 & 8 & 9 \\end{matrix} vertically as follows B = \\begin{matrix} 7 & 8 & 9 \\\\ 4 & 5 & 6 \\\\ 1 & 2 & 3 \\end{matrix}\n"
            ],
            "metadata": {
                "id": "ag76bBcbdM_Q"
            }
        },
        {
            "cell_type": "code",
            "source": [
                "a = np.arange(1, 10)\n",
                "a = a.reshape(3, 3)\n",
                "a = np.flip(a, axis = 0)\n",
                "print(a)"
            ],
            "metadata": {
                "colab": {
                    "base_uri": "https://localhost:8080/"
                },
                "id": "LpYoeJu-dUme",
                "executionInfo": {
                    "status": "ok",
                    "timestamp": 1678518343573,
                    "user_tz": -420,
                    "elapsed": 338,
                    "user": {
                        "displayName": "Nguyễn Huỳnh Anh Khoa",
                        "userId": "02658232784182434736"
                    }
                },
                "outputId": "ac26d713-2ec5-4633-8e79-bc9f048bed25"
            },
            "execution_count": null,
            "outputs": [
                {
                    "output_type": "stream",
                    "name": "stdout",
                    "text": [
                        "[[7 8 9]\n",
                        " [4 5 6]\n",
                        " [1 2 3]]\n"
                    ]
                }
            ]
        },
        {
            "cell_type": "markdown",
            "source": [
                "Exercise 5: Enter the matrix Y =provide a command to create vectors or matrices as follow"
            ],
            "metadata": {
                "id": "TV0MQxLWekVW"
            }
        },
        {
            "cell_type": "code",
            "source": [
                "y = np.array([\n",
                "    [1, 2, 16, 31, 22],\n",
                "    [2, 8, 12, 21, 23],\n",
                "    [4, 9, 11, 14, 25],\n",
                "    [3, 6, 10, 16, 34]\n",
                "])\n",
                "\n",
                "x = y[1, 1:4]\n",
                "\n",
                "a = y[(1, 2), 1:4]\n",
                "\n",
                "b = y[0:5, 2:3]\n",
                "\n",
                "c = y[0:5, (0, 2, 4)]\n",
                "\n",
                "d = y[1: 4, (0, 2, 3, 4)]\n",
                "\n",
                "print(x)\n",
                "print(a)\n",
                "print(b)\n",
                "print(c)\n",
                "print(d)"
            ],
            "metadata": {
                "colab": {
                    "base_uri": "https://localhost:8080/"
                },
                "id": "sqm2xZvOe0dH",
                "executionInfo": {
                    "status": "ok",
                    "timestamp": 1678520453077,
                    "user_tz": -420,
                    "elapsed": 483,
                    "user": {
                        "displayName": "Nguyễn Huỳnh Anh Khoa",
                        "userId": "02658232784182434736"
                    }
                },
                "outputId": "c6002c67-6e06-4c3c-d4d8-4f3852f728f7"
            },
            "execution_count": null,
            "outputs": [
                {
                    "output_type": "stream",
                    "name": "stdout",
                    "text": [
                        "[ 8 12 21]\n",
                        "[[ 8 12 21]\n",
                        " [ 9 11 14]]\n",
                        "[[16]\n",
                        " [12]\n",
                        " [11]\n",
                        " [10]]\n",
                        "[[ 1 16 22]\n",
                        " [ 2 12 23]\n",
                        " [ 4 11 25]\n",
                        " [ 3 10 34]]\n",
                        "[[ 2 12 21 23]\n",
                        " [ 4 11 14 25]\n",
                        " [ 3 10 16 34]]\n"
                    ]
                }
            ]
        },
        {
            "cell_type": "markdown",
            "source": [
                "Exercise 6: Given the matrix A = \\begin{matrix} 2 & 4 & 1 \\\\ 6 & 7 & 2 \\\\ 3 & 5 & 9\\end{matrix}, provide commands to do the following:\n",
                "(a) Assign the first row of A into a vector called x1\n",
                "(b) Assign the last 2 rows of A into the matrix called Y"
            ],
            "metadata": {
                "id": "6GPqyJ56lj6z"
            }
        },
        {
            "cell_type": "code",
            "source": [
                "a = np.array([\n",
                "    [2, 4, 1],\n",
                "    [6, 7, 2],\n",
                "    [3, 5, 9]\n",
                "])\n",
                "\n",
                "x1 = a[0, 0:3]\n",
                "print(x1)\n",
                "\n",
                "y = a[1:3, 0:3]\n",
                "print(y)"
            ],
            "metadata": {
                "colab": {
                    "base_uri": "https://localhost:8080/"
                },
                "id": "rppthbf3l56r",
                "executionInfo": {
                    "status": "ok",
                    "timestamp": 1678520516814,
                    "user_tz": -420,
                    "elapsed": 326,
                    "user": {
                        "displayName": "Nguyễn Huỳnh Anh Khoa",
                        "userId": "02658232784182434736"
                    }
                },
                "outputId": "af5e9a51-d705-46ae-d58e-be7b86f3fbfd"
            },
            "execution_count": null,
            "outputs": [
                {
                    "output_type": "stream",
                    "name": "stdout",
                    "text": [
                        "[2 4 1]\n",
                        "[[6 7 2]\n",
                        " [3 5 9]]\n"
                    ]
                }
            ]
        },
        {
            "cell_type": "markdown",
            "source": [
                "Exercise 7: Let A =\n",
                "\n",
                "2 7 9 7\n",
                "\n",
                "3 1 5 6\n",
                "\n",
                "8 1 2 5\n",
                "\n",
                "Write command that will\n",
                "\n",
                "(a) Assign the even numbered columns of A into a new vector called B\n",
                "\n",
                "(b) Assign the odd numbered rows into a new vector called C\n",
                "\n",
                "(c) Convert A to a 4 × 3 matrix"
            ],
            "metadata": {
                "id": "JpI_glIjnw7R"
            }
        },
        {
            "cell_type": "code",
            "source": [
                "a = np.array([\n",
                "    [2, 7, 9, 7],\n",
                "    [3, 1, 5, 6],\n",
                "    [8, 1, 2, 5]\n",
                "])\n",
                "\n",
                "b = a[ :: , 1::2]\n",
                "print(b)\n",
                "\n",
                "c = a[::2, ::]\n",
                "print(c)\n",
                "\n",
                "a = np.reshape(a,(4, 3))\n",
                "print(a)"
            ],
            "metadata": {
                "colab": {
                    "base_uri": "https://localhost:8080/"
                },
                "id": "rRI51QMuoi8Y",
                "executionInfo": {
                    "status": "ok",
                    "timestamp": 1678521449831,
                    "user_tz": -420,
                    "elapsed": 1189,
                    "user": {
                        "displayName": "Nguyễn Huỳnh Anh Khoa",
                        "userId": "02658232784182434736"
                    }
                },
                "outputId": "4e8012ee-e750-4620-f447-73b191283f43"
            },
            "execution_count": null,
            "outputs": [
                {
                    "output_type": "stream",
                    "name": "stdout",
                    "text": [
                        "[[7 7]\n",
                        " [1 6]\n",
                        " [1 5]]\n",
                        "[[2 7 9 7]\n",
                        " [8 1 2 5]]\n",
                        "[[2 7 9]\n",
                        " [7 3 1]\n",
                        " [5 6 8]\n",
                        " [1 2 5]]\n"
                    ]
                }
            ]
        },
        {
            "cell_type": "markdown",
            "source": [
                "A local shop sells three types of ice cream flavours: strawberry, vanilla and chocolate. Strawberry costs 2$, vanilla 1$ and chocolate 3$ each. The sales of each ice cream are as show in the following\n",
                "table.![image.png](data:image/png;base64,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)\n",
                "How to evaluate the total sales for each day.\n"
            ],
            "metadata": {
                "id": "EXX3dmnnrQdu"
            }
        },
        {
            "cell_type": "code",
            "source": [
                "import numpy as np\n",
                "\n",
                "a = np.array([\n",
                "    [12, 15, 10, 16, 12],\n",
                "    [5, 9, 14, 7, 10], \n",
                "    [8, 12, 10, 9, 15]\n",
                "])\n",
                "p = np.array([2, 1, 3])\n",
                "\n",
                "dt = np.matmul(p, a)\n",
                "\n",
                "print(\"Evaluate the total sales for each days:\", dt)"
            ],
            "metadata": {
                "colab": {
                    "base_uri": "https://localhost:8080/"
                },
                "id": "gSv33YHmaQSO",
                "executionInfo": {
                    "status": "ok",
                    "timestamp": 1679121223794,
                    "user_tz": -420,
                    "elapsed": 4,
                    "user": {
                        "displayName": "Nguyễn Huỳnh Anh Khoa",
                        "userId": "02658232784182434736"
                    }
                },
                "outputId": "34f73a97-e83e-45df-d212-29167aa209a2"
            },
            "execution_count": null,
            "outputs": [
                {
                    "output_type": "stream",
                    "name": "stdout",
                    "text": [
                        "Evaluate the total sales for each days: [53 75 64 66 79]\n"
                    ]
                }
            ]
        },
        {
            "cell_type": "markdown",
            "source": [
                "https://nhactrunghoa.com/bai-hat-tieng-trung-chung-ta-khong-giong-nhau.html"
            ],
            "metadata": {
                "id": "uQSlkZLmbnPS"
            }
        },
        {
            "cell_type": "markdown",
            "source": [
                "Exercise 9: Let T be a (transition) matrix of a Markov chain and p be a probability vector. Then the probability that the chain is in a particular state after k steps is given by the vector pk:\n",
                "pk = T ^ k * ["
            ],
            "metadata": {
                "id": "VA8OOMBbbyDh"
            }
        },
        {
            "cell_type": "code",
            "source": [
                "import numpy as np\n",
                "\n",
                "t = np.array([\n",
                "    [0.6, 0.7],\n",
                "    [0.4, 0.3]\n",
                "])\n",
                "\n",
                "p = np.array([\n",
                "    [0.5],\n",
                "    [0.5]\n",
                "])\n",
                "Tk = np.copy(t)\n",
                "\n",
                "for k in range(1, 100001):\n",
                "  pk = np.matmul(Tk, t) #T^k = T*T*...*T (k lan)\n",
                "  if k == 1 or k == 2 or k == 10 or k == 100000:\n",
                "    print(\"k =\", k)\n",
                "    print(\"pk =\\n\", pk)\n",
                "    print(\"-----\")"
            ],
            "metadata": {
                "colab": {
                    "base_uri": "https://localhost:8080/"
                },
                "id": "I0c7QcWFbt3B",
                "executionInfo": {
                    "status": "ok",
                    "timestamp": 1679122148537,
                    "user_tz": -420,
                    "elapsed": 332,
                    "user": {
                        "displayName": "Nguyễn Huỳnh Anh Khoa",
                        "userId": "02658232784182434736"
                    }
                },
                "outputId": "5c6fc54c-1265-4385-a8ff-e2028db90cb3"
            },
            "execution_count": null,
            "outputs": [
                {
                    "output_type": "stream",
                    "name": "stdout",
                    "text": [
                        "k = 1\n",
                        "pk =\n",
                        " [[0.64 0.63]\n",
                        " [0.36 0.37]]\n",
                        "-----\n",
                        "k = 2\n",
                        "pk =\n",
                        " [[0.64 0.63]\n",
                        " [0.36 0.37]]\n",
                        "-----\n",
                        "k = 10\n",
                        "pk =\n",
                        " [[0.64 0.63]\n",
                        " [0.36 0.37]]\n",
                        "-----\n",
                        "k = 100000\n",
                        "pk =\n",
                        " [[0.64 0.63]\n",
                        " [0.36 0.37]]\n",
                        "-----\n"
                    ]
                }
            ]
        },
        {
            "cell_type": "markdown",
            "source": [
                "Exercise 10:"
            ],
            "metadata": {
                "id": "PiNIcVhIe-l_"
            }
        },
        {
            "cell_type": "code",
            "source": [
                "import numpy as np\n",
                "\n",
                "a = np.array([\n",
                "    [-1, 4, 8],\n",
                "    [-9, 1, 2]\n",
                "])\n",
                "\n",
                "b = np.array([\n",
                "    [5, 8],\n",
                "    [0, -6],\n",
                "    [5, 6]\n",
                "])\n",
                "\n",
                "c = np.array([\n",
                "    [-4, 1],\n",
                "    [6, 5]\n",
                "])\n",
                "\n",
                "d = np.array([\n",
                "    [-6, 3, 1],\n",
                "    [8, 9, -2],\n",
                "    [6, -1, 5]\n",
                "])\n",
                "\n",
                "print(\"a) AB^T is impossible\")\n",
                "print(\"b) B*C^T =\\n\", np.matmul(b, c.T))\n",
                "print(\"c) (C - C ^ T) =\\n\", c - c.T)\n",
                "print(\"d) (D - D^T) =\\n\", d - d.T)\n",
                "print(\"e) ((D^T)^T) =\\n\", (d.T).T)\n",
                "print(\"f) (2C^T =\\n\", 2*c.T)\n",
                "print(\"g) (A^T + B =\\n\", a.T + b)\n",
                "print(\"h) ((A^T + B)^T) =\\n\", (a.T + b).T)"
            ],
            "metadata": {
                "colab": {
                    "base_uri": "https://localhost:8080/"
                },
                "id": "FRd1opLcfFEo",
                "executionInfo": {
                    "status": "ok",
                    "timestamp": 1679123380285,
                    "user_tz": -420,
                    "elapsed": 314,
                    "user": {
                        "displayName": "Nguyễn Huỳnh Anh Khoa",
                        "userId": "02658232784182434736"
                    }
                },
                "outputId": "00269839-318a-4bf6-cb18-962078ac8d1c"
            },
            "execution_count": null,
            "outputs": [
                {
                    "output_type": "stream",
                    "name": "stdout",
                    "text": [
                        "a) AB^T is impossible\n",
                        "b) B*C^T =\n",
                        " [[-12  70]\n",
                        " [ -6 -30]\n",
                        " [-14  60]]\n",
                        "c) (C - C ^ T) =\n",
                        " [[ 0 -5]\n",
                        " [ 5  0]]\n",
                        "d) (D - D^T) =\n",
                        " [[ 0 -5 -5]\n",
                        " [ 5  0 -1]\n",
                        " [ 5  1  0]]\n",
                        "e) ((D^T)^T) =\n",
                        " [[-6  3  1]\n",
                        " [ 8  9 -2]\n",
                        " [ 6 -1  5]]\n",
                        "f) (2C^T =\n",
                        " [[-8 12]\n",
                        " [ 2 10]]\n",
                        "g) (A^T + B =\n",
                        " [[ 4 -1]\n",
                        " [ 4 -5]\n",
                        " [13  8]]\n",
                        "((A^T + B)^T) =\n",
                        " [[ 4  4 13]\n",
                        " [-1 -5  8]]\n"
                    ]
                }
            ]
        },
        {
            "cell_type": "markdown",
            "source": [
                "Excercise 11:"
            ],
            "metadata": {
                "id": "bc_aHeg7jiLt"
            }
        },
        {
            "cell_type": "code",
            "source": [
                "import numpy as np\n",
                "\n",
                "a = np.array([\n",
                "    [2, 4, 1],\n",
                "    [6, 7, 2],\n",
                "    [3, 5, 9]\n",
                "])\n",
                "# (a) Is A matrix square or not?\n",
                "if a.shape[0] == a.shape[1]:\n",
                "  print(\"A is a square matrix\")\n",
                "else:\n",
                "  print(\"A is NOT a square matrix\")\n",
                "# (b) Is A matrix symmetric or not?\n",
                "if np.allclose(a.T, a):\n",
                "  print(\"A is symmetric\")\n",
                "else:\n",
                "  print(\"A is NOT symmetric\")\n",
                "# (c) Is A matrix skew-symmetric or not?\n",
                "if np.allclose(-a.T, a):\n",
                "  print(\"A is skew-symmetric\")\n",
                "else:\n",
                "  print(\"A is NOT skew-symmetric\")\n",
                "# (d) Find Upper triangular matrix of A.\n",
                "print(\"11d =\\n\", np.triu(a))\n",
                "# (e) Find Lower triangular matrix of A.\n",
                "print(\"11e =\\n\", np.tril(a))"
            ],
            "metadata": {
                "colab": {
                    "base_uri": "https://localhost:8080/"
                },
                "id": "R6K3svsPjpGO",
                "executionInfo": {
                    "status": "ok",
                    "timestamp": 1679124512078,
                    "user_tz": -420,
                    "elapsed": 325,
                    "user": {
                        "displayName": "Nguyễn Huỳnh Anh Khoa",
                        "userId": "02658232784182434736"
                    }
                },
                "outputId": "fe913fff-1e30-4613-b994-dedacbe5f247"
            },
            "execution_count": null,
            "outputs": [
                {
                    "output_type": "stream",
                    "name": "stdout",
                    "text": [
                        "A is a square matrix\n",
                        "A is NOT symmetric\n",
                        "A is NOT skew-symmetric\n",
                        "11d =\n",
                        " [[2 4 1]\n",
                        " [0 7 2]\n",
                        " [0 0 9]]\n",
                        "11e =\n",
                        " [[2 0 0]\n",
                        " [6 7 0]\n",
                        " [3 5 9]]\n"
                    ]
                }
            ]
        },
        {
            "cell_type": "markdown",
            "source": [
                "Exercise 12: Write a command to compute the determinant of the matrices below:"
            ],
            "metadata": {
                "id": "cXcNzVwnnuiI"
            }
        },
        {
            "cell_type": "code",
            "source": [
                "import numpy as np\n",
                "\n",
                "a = np.array([\n",
                "    [6, 0, 0, 5],\n",
                "    [1, 7, 2, -5],\n",
                "    [2, 0, 0, 0],\n",
                "    [8, 3, 1, 8]\n",
                "])\n",
                "\n",
                "print(\"A =\", np.linalg.det(a))\n",
                "\n",
                "b = np.array([\n",
                "    [1, -2, 5, 2],\n",
                "    [0, 0, 3, 0],\n",
                "    [2, -6, -7, 5],\n",
                "    [5, 0, 4, 4]\n",
                "])\n",
                "print(\"B =\", np.linalg.det(b))"
            ],
            "metadata": {
                "colab": {
                    "base_uri": "https://localhost:8080/"
                },
                "id": "q-xjMpWhnxdP",
                "executionInfo": {
                    "status": "ok",
                    "timestamp": 1679125148011,
                    "user_tz": -420,
                    "elapsed": 2,
                    "user": {
                        "displayName": "Nguyễn Huỳnh Anh Khoa",
                        "userId": "02658232784182434736"
                    }
                },
                "outputId": "ca7e5bb9-7523-4cff-8743-1ef3f11732f4"
            },
            "execution_count": null,
            "outputs": [
                {
                    "output_type": "stream",
                    "name": "stdout",
                    "text": [
                        "A = 10.000000000000007\n",
                        "B = -5.999999999999997\n"
                    ]
                }
            ]
        },
        {
            "cell_type": "markdown",
            "source": [
                "Exercise 13: Is it true that det(A + B)=detA+detB? \n",
                "\n",
                "To find out, generate random 5 × 5 matrices A and B, and compute det(A + B)−detA−detB. \n",
                "\n",
                "Repeat the calculations for three other pairs of n × n matrices, for various values of n."
            ],
            "metadata": {
                "id": "BkL39Zsgq1a1"
            }
        },
        {
            "cell_type": "code",
            "source": [
                "import numpy as np\n",
                "\n",
                "a = np.random.randint(10, size = (5, 5))\n",
                "b = np.random.randint(10, size = (5, 5))\n",
                "\n",
                "res = np.linalg.det(a + b) - np.linalg.det(a) - np.linalg.det(b)\n",
                "\n",
                "print(res)"
            ],
            "metadata": {
                "colab": {
                    "base_uri": "https://localhost:8080/"
                },
                "id": "WJs8OUusrB2u",
                "executionInfo": {
                    "status": "ok",
                    "timestamp": 1679126279709,
                    "user_tz": -420,
                    "elapsed": 359,
                    "user": {
                        "displayName": "Nguyễn Huỳnh Anh Khoa",
                        "userId": "02658232784182434736"
                    }
                },
                "outputId": "ddc5752f-fe97-403f-b7db-0d460e139f4c"
            },
            "execution_count": null,
            "outputs": [
                {
                    "output_type": "stream",
                    "name": "stdout",
                    "text": [
                        "29488.00000000006\n"
                    ]
                }
            ]
        },
        {
            "cell_type": "markdown",
            "source": [
                "Exercise 14: Is it true that detAB=(detA)(detB)?. Repeat the calculation for four pairs of random matrices"
            ],
            "metadata": {
                "id": "zUqQKUA6vgGt"
            }
        },
        {
            "cell_type": "code",
            "source": [
                "import numpy as np\n",
                "\n",
                "a = np.random.randint(10, size = (5, 5))\n",
                "b = np.random.randint(10, size = (5, 5))\n",
                "\n",
                "res = np.linalg.det(a * b) - np.linalg.det(a) * np.linalg.det(b)\n",
                "\n",
                "print(res)"
            ],
            "metadata": {
                "colab": {
                    "base_uri": "https://localhost:8080/"
                },
                "id": "B4XR-Y5XvfrW",
                "executionInfo": {
                    "status": "ok",
                    "timestamp": 1679126622835,
                    "user_tz": -420,
                    "elapsed": 2,
                    "user": {
                        "displayName": "Nguyễn Huỳnh Anh Khoa",
                        "userId": "02658232784182434736"
                    }
                },
                "outputId": "3e59a4f1-cd61-47c7-fc57-dd6f9f96b7ac"
            },
            "execution_count": null,
            "outputs": [
                {
                    "output_type": "stream",
                    "name": "stdout",
                    "text": [
                        "12423251.999999985\n"
                    ]
                }
            ]
        },
        {
            "cell_type": "markdown",
            "source": [
                "![image.png](data:image/png;base64,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)"
            ],
            "metadata": {
                "id": "THhnNbZ0xoSP"
            }
        },
        {
            "cell_type": "code",
            "source": [
                "import numpy as np\n",
                "\n",
                "A = np.array([\n",
                "    [2, 4, 5/2],\n",
                "    [-3/4, 2, 1/4],\n",
                "    [1/4, 1/2, 2]\n",
                "])\n",
                "\n",
                "B = np.array([\n",
                "    [1, -1/2, 3/4],\n",
                "    [3/2, 1/2, -2],\n",
                "    [1/4, 1, 1/2]\n",
                "])\n",
                "\n",
                "# Part a\n",
                "AB_T = np.matmul(A, B).T\n",
                "print(\"A.T x B.T = \\n\", np.matmul(A.T, B.T))\n",
                "print(\"(A x B).T = A.T x B.T = \\n\", AB_T)\n",
                "print(\"(B x A).T = B.T x A.T = \\n\", np.matmul(B.T, A.T))\n",
                "\n",
                "# Part b\n",
                "A_inv_T = np.linalg.inv(A).T\n",
                "print(\"(A^-1).T = \\n\", A_inv_T)\n",
                "AT_inv = np.linalg.inv(A.T)\n",
                "print(\"(A.T)^-1 = \\n\", AT_inv)\n"
            ],
            "metadata": {
                "id": "Z06ny1ZLxxrJ"
            },
            "execution_count": null,
            "outputs": []
        }
    ]
}