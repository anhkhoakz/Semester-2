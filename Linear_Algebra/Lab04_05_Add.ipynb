{
  "cells": [
    {
      "cell_type": "markdown",
      "metadata": {
        "id": "OmC9hv2Mjhqq"
      },
      "source": [
        "**Input**\n",
        "Create a 10×10 matrix A with random integers [1, 99]."
      ]
    },
    {
      "cell_type": "markdown",
      "metadata": {
        "id": "8MtXds1U7cRt"
      },
      "source": [
        "#Exercise 11:\n",
        " Chemical equations describe the quantities of substances consumed and produced by chemical\n",
        "reactions. For instance\n",
        "\n",
        "(x1)C3H8 + (x2)O2 −→ (x3)CO2 + (x4)H2O\n",
        "\n",
        "To balance this equation, a chemist must find whole numbers x1, ..., x4 such that the total numbers\n",
        "of carbon (C), hydrogen (H), and oxygen (O) atoms on the left match the corresponding numbers of\n",
        "atoms on the right.\n",
        "Hint: Three types of atoms (C, H, O) construct a vector in R3\n",
        "."
      ]
    },
    {
      "cell_type": "code",
      "execution_count": null,
      "metadata": {
        "id": "uQZpMJav7KfU"
      },
      "outputs": [],
      "source": [
        "import numpy as np\n",
        "\n",
        "# Hệ số ma trận\n",
        "A = np.array([[3, 0, -3, 0],\n",
        "              [8, 0, -4, -2],\n",
        "              [0, 10, -2, -4]])\n",
        "\n",
        "# Véc tơ bên phải\n",
        "b = np.array([0, 0, 0])\n",
        "\n",
        "# Giải bằng hàm linalg.solve\n",
        "x = np.linalg.solve(A, b)\n",
        "\n",
        "# In kết quả\n",
        "print(x)\n"
      ]
    },
    {
      "cell_type": "code",
      "execution_count": null,
      "metadata": {
        "id": "GHPAM4cxi7_z"
      },
      "outputs": [],
      "source": [
        "import numpy as np\n",
        "\n",
        "A = np.random.randint(1, 100, size=(10, 10))\n"
      ]
    },
    {
      "cell_type": "markdown",
      "metadata": {
        "id": "BQybucBtlm_7"
      },
      "source": [
        "**Excercise 12:** Save odd columns of the matrix A into a new matrix."
      ]
    },
    {
      "cell_type": "code",
      "execution_count": null,
      "metadata": {
        "colab": {
          "base_uri": "https://localhost:8080/"
        },
        "id": "qU5yOZuakB_j",
        "outputId": "2728f869-026c-4b60-bc21-cac36c8af7e0"
      },
      "outputs": [
        {
          "name": "stdout",
          "output_type": "stream",
          "text": [
            "[[82 80 83 60 36]\n",
            " [33 51 95 71 94]\n",
            " [81 91 57 44 72]\n",
            " [44 90 42 73 76]\n",
            " [84 10 69 89 27]\n",
            " [53 47 99 85 37]\n",
            " [22 29 81 54 39]\n",
            " [85 74 64 92 77]\n",
            " [74 50 39 30 77]\n",
            " [58 72 45 23 93]]\n"
          ]
        }
      ],
      "source": [
        "B = A[:, ::2]\n",
        "print(B)\n"
      ]
    },
    {
      "cell_type": "markdown",
      "metadata": {
        "id": "7eiOQehClwWJ"
      },
      "source": [
        "**Excercise 13:** Save even rows of the matrix A into a new matrix."
      ]
    },
    {
      "cell_type": "code",
      "execution_count": null,
      "metadata": {
        "colab": {
          "base_uri": "https://localhost:8080/"
        },
        "id": "0C_FjS7Yl_oY",
        "outputId": "302b75a0-f147-4591-877e-aba13499c1af"
      },
      "outputs": [
        {
          "name": "stdout",
          "output_type": "stream",
          "text": [
            "[[33 50 51 25 95 56 71 21 94 93]\n",
            " [44 19 90 35 42 86 73 32 76 31]\n",
            " [53 32 47 46 99 35 85  4 37 64]\n",
            " [85 92 74 92 64 75 92 14 77 79]\n",
            " [58 28 72 14 45 92 23 29 93 88]]\n"
          ]
        }
      ],
      "source": [
        "B = A[1::2]\n",
        "print(B)\n"
      ]
    },
    {
      "cell_type": "markdown",
      "metadata": {
        "id": "vMrxYkXtmPDq"
      },
      "source": [
        "**Excercise 14:** Save even integer numbers in the matrix A into a vector."
      ]
    },
    {
      "cell_type": "code",
      "execution_count": null,
      "metadata": {
        "colab": {
          "base_uri": "https://localhost:8080/"
        },
        "id": "_SIUemAdmThA",
        "outputId": "e4fecff7-be6d-482e-8d01-168a1ea9faff"
      },
      "outputs": [
        {
          "name": "stdout",
          "output_type": "stream",
          "text": [
            "[22, 86, 54, 56, 10, 84, 22, 4, 58, 88, 8, 70, 36, 42, 72, 58, 94, 16, 82, 20, 62, 64, 46, 4, 2, 70, 50, 34, 44, 86, 78, 42, 86, 84, 26, 82, 34, 66, 36, 60, 2, 8]\n"
          ]
        }
      ],
      "source": [
        "B = []\n",
        "\n",
        "for row in A:\n",
        "    for element in row:\n",
        "        if element % 2 == 0:\n",
        "            B.append(element)\n",
        "\n",
        "print(B)\n"
      ]
    },
    {
      "cell_type": "markdown",
      "metadata": {
        "id": "lb1lAsGznxRh"
      },
      "source": [
        "**Excercise 15:** Reverse elements in the even rows of the matrix A, and save the results into a new matrix."
      ]
    },
    {
      "cell_type": "code",
      "execution_count": null,
      "metadata": {
        "colab": {
          "base_uri": "https://localhost:8080/"
        },
        "id": "Hx8JiLkrn4vn",
        "outputId": "880b7399-944b-4608-e4b1-f25dff5d9fac"
      },
      "outputs": [
        {
          "name": "stdout",
          "output_type": "stream",
          "text": [
            "[[82 25 80 63 83 39 60 84 36 19]\n",
            " [93 94 21 71 56 95 33 50 51 25]\n",
            " [81 44 91 26 57 45 44 18 72 50]\n",
            " [31 76 32 73 86 42 44 19 90 35]\n",
            " [84 97 10 60 69 34 89  2 27 19]\n",
            " [64 37  4 85 35 99 53 32 47 46]\n",
            " [22 11 29 63 81  8 54 40 39 14]\n",
            " [79 77 14 92 75 64 85 92 74 92]\n",
            " [74 74 50 50 39 38 30 78 77 39]\n",
            " [88 93 29 23 92 45 58 28 72 14]]\n"
          ]
        }
      ],
      "source": [
        "# cau15\n",
        "B = A.copy()\n",
        "\n",
        "# Loop and flip over the even rows in B\n",
        "for i in range(1, len(B), 2):\n",
        "    B[i] = np.flipud(B[i])\n",
        "\n",
        "print(B)\n"
      ]
    },
    {
      "cell_type": "markdown",
      "metadata": {
        "id": "DvjczVrCrAGQ"
      },
      "source": [
        "Another Way for **Excercise 5**"
      ]
    },
    {
      "cell_type": "code",
      "execution_count": null,
      "metadata": {
        "colab": {
          "base_uri": "https://localhost:8080/"
        },
        "id": "3qXGp90tq9AB",
        "outputId": "7bb19fec-cd88-408b-d7b2-df28542a523a"
      },
      "outputs": [
        {
          "name": "stdout",
          "output_type": "stream",
          "text": [
            "New matrix B:\n",
            "[19 36 84 60 39 83 63 80 25 82]\n",
            "[25 51 50 33 95 56 71 21 94 93]\n",
            "[50 72 18 44 45 57 26 91 44 81]\n",
            "[35 90 19 44 42 86 73 32 76 31]\n",
            "[19 27  2 89 34 69 60 10 97 84]\n",
            "[46 47 32 53 99 35 85  4 37 64]\n",
            "[14 39 40 54  8 81 63 29 11 22]\n",
            "[92 74 92 85 64 75 92 14 77 79]\n",
            "[39 77 78 30 38 39 50 50 74 74]\n",
            "[14 72 28 58 45 92 23 29 93 88]\n"
          ]
        }
      ],
      "source": [
        "# Create a new empty matrix with the same shape as A\n",
        "B = [[0 for _ in range(len(A[0]))] for _ in range(len(A))]\n",
        "\n",
        "# Loop over the rows in A\n",
        "for i, row in enumerate(A):\n",
        "    # Reverse the elements in even rows\n",
        "    if i % 2 == 0:\n",
        "        row = np.flipud(row)\n",
        "    # Copy the row into the new matrix\n",
        "    B[i] = row\n",
        "\n",
        "# Print the original and new matrices for comparison\n",
        "print(\"New matrix B:\")\n",
        "for row in B:\n",
        "    print(row)\n"
      ]
    },
    {
      "cell_type": "markdown",
      "metadata": {
        "id": "UYhJP0SYrsd5"
      },
      "source": [
        "**Excercise 16:** Replace odd integer numbers in the matrix A by the maximum odd integer number of A."
      ]
    },
    {
      "cell_type": "code",
      "execution_count": null,
      "metadata": {
        "colab": {
          "base_uri": "https://localhost:8080/"
        },
        "id": "VTQf30nhr6PB",
        "outputId": "b1475b3a-f860-4ec9-c95f-75645b32c26b"
      },
      "outputs": [
        {
          "name": "stdout",
          "output_type": "stream",
          "text": [
            "[[95 22 86 54 95 95 95 56 95 10]\n",
            " [95 95 95 95 84 95 95 95 95 22]\n",
            " [95  4 95 58 88 95 95  8 70 36]\n",
            " [95 42 95 95 95 95 95 95 95 95]\n",
            " [72 95 58 95 94 95 16 82 95 20]\n",
            " [95 95 62 95 64 95 95 46  4 95]\n",
            " [95  2 95 70 95 95 95 95 95 95]\n",
            " [95 95 50 95 34 95 44 95 86 95]\n",
            " [95 78 42 86 95 95 84 26 82 34]\n",
            " [66 95 36 60 95 95  2 95  8 95]]\n"
          ]
        }
      ],
      "source": [
        "B = A.copy()\n",
        "\n",
        "maxNum = B[0][0]\n",
        "\n",
        "for row in B:\n",
        "    for element in row:\n",
        "        if (element % 2 != 0) and (element > maxNum):\n",
        "            maxNum = element\n",
        "\n",
        "for i in range(len(B)):\n",
        "    for j in range(len(B[i])):\n",
        "        if B[i][j] % 2 != 0:\n",
        "            B[i][j] = maxNum\n",
        "\n",
        "print(B)\n"
      ]
    },
    {
      "cell_type": "markdown",
      "metadata": {
        "id": "iRRp1jPXugQJ"
      },
      "source": [
        "**Excercise 17:** Swap the first column and the last column of the matrix A, and save the results into a new matrix.\n",
        "\n",
        "Note: it is different with matrix flipping."
      ]
    },
    {
      "cell_type": "code",
      "execution_count": null,
      "metadata": {
        "colab": {
          "base_uri": "https://localhost:8080/"
        },
        "id": "UjB1jsG-v-eZ",
        "outputId": "f6aff54b-45db-462e-ce12-bf7f9f12c9e0"
      },
      "outputs": [
        {
          "name": "stdout",
          "output_type": "stream",
          "text": [
            "[[10 17 56 75 35 69 54 86 22 19]\n",
            " [22  3  5 49 73 84 39 17 75 73]\n",
            " [36 70  8 21 47 88 58 83  4 83]\n",
            " [65 15 17 73 89 61 41 21 42 21]\n",
            " [20  7 82 16  1 94 91 58 65 72]\n",
            " [53  4 46 55 23 64 63 62  5 25]\n",
            " [ 9 45 93 59  7 31 70 63  2 11]\n",
            " [35 86 21 44 85 34 95 50 95 13]\n",
            " [34 82 26 84 83 43 86 42 78 29]\n",
            " [21  8 75  2  5 81 60 36  3 66]]\n"
          ]
        }
      ],
      "source": [
        "B = A.copy()\n",
        "\n",
        "for i in range(len(B)):\n",
        "    B[i] = np.flipud(B[i])\n",
        "\n",
        "print(B)\n"
      ]
    },
    {
      "cell_type": "markdown",
      "metadata": {
        "id": "jAk0BqU2wxMA"
      },
      "source": [
        "**Excercise 18:** Calculate sum of all Boundary elements of the matrix A, and save the result into a variable.\n",
        "\n",
        "Hint:\n",
        "- Boundary elements are those elements that are not surrounded by elements in all four directions, i.e. elements in the first row, first column, last row, and last column.\n",
        "- To avoid duplicated calculation, each element must be used only one time in the sum calculation."
      ]
    },
    {
      "cell_type": "markdown",
      "metadata": {
        "id": "o7rJfO9N1YDw"
      },
      "source": [
        "Đây là một đoạn chương trình Python để tính tổng các phần tử ở hàng đầu tiên, hàng cuối cùng, cột đầu tiên và cột cuối cùng của ma trận đa chiều A.\n",
        "\n",
        "**for i in range(len(B)):** Duyệt qua từng phần tử của hàng đầu tiên và hàng cuối cùng của ma trận B, với i là chỉ số của các phần tử đó.\n",
        "\n",
        "**sum += B[0][i]:** Cộng giá trị của phần tử thứ i trong hàng đầu tiên của ma trận B vào biến sum.\n",
        "\n",
        "**sum += B[len(B)-1][i]:** Cộng giá trị của phần tử thứ i trong hàng cuối cùng của ma trận B vào biến sum.\n",
        "\n",
        "**for i in range(1, len(B) - 1):** Duyệt qua từng phần tử của cột đầu tiên và cột cuối cùng của ma trận B, với i là chỉ số của các phần tử đó. Lưu ý rằng chỉ duyệt từ phần tử thứ 2 đến phần tử thứ len(B) - 2 để tránh tính lại các phần tử đã được tính ở hàng đầu tiên và hàng cuối cùng.\n",
        "\n",
        "**sum += B[i][0]:** Cộng giá trị của phần tử đầu tiên trong cột thứ i của ma trận B vào biến sum.\n",
        "\n",
        "**sum += B[i][len(B[0])-1]:** Cộng giá trị của phần tử cuối cùng trong cột thứ i của ma trận B vào biến sum.\n",
        "\n",
        "\n",
        "\n",
        "\n"
      ]
    },
    {
      "cell_type": "code",
      "execution_count": null,
      "metadata": {
        "colab": {
          "base_uri": "https://localhost:8080/"
        },
        "id": "_kq4MdJ0w-Do",
        "outputId": "cd50df90-b487-47c2-bf4f-29dbfa4a4f63"
      },
      "outputs": [
        {
          "name": "stdout",
          "output_type": "stream",
          "text": [
            "1401\n"
          ]
        }
      ],
      "source": [
        "B = A.copy()\n",
        "\n",
        "sum = 0\n",
        "\n",
        "# duyệt qua hàng đầu tiên và hàng cuối cùng\n",
        "for i in range(len(B)):\n",
        "    sum += B[0][i]\n",
        "    sum += B[len(B)-1][i]\n",
        "\n",
        "# duyệt qua cột đầu tiên và cột cuối cùng\n",
        "for i in range(1, len(B) - 1):\n",
        "    sum += B[i][0]\n",
        "    sum += B[i][len(B[0])-1]\n",
        "\n",
        "print(sum)\n"
      ]
    },
    {
      "cell_type": "markdown",
      "metadata": {
        "id": "U-jzoCET14B4"
      },
      "source": [
        "Calculate sum of all major and minor Diagonal elements of the matrix A, and save the result into a variable.\n",
        "\n",
        "Hint:\n",
        "- Major diagonal elements are the ones that occur from TOP LEFT of matrix down to BOTTOM RIGHT corner.\n",
        "Minor diagonal elements are the ones that occur from TOP RIGHT of matrix down to BOTTOM LEFT corner.\n",
        "- To avoid duplicated calculation, each element must be used only one time in the sum calculation."
      ]
    },
    {
      "cell_type": "code",
      "execution_count": null,
      "metadata": {
        "colab": {
          "base_uri": "https://localhost:8080/"
        },
        "id": "Bmo63-LP2NFo",
        "outputId": "4bed1488-22e0-4dd2-affc-66465b551e29"
      },
      "outputs": [
        {
          "name": "stdout",
          "output_type": "stream",
          "text": [
            "Sum of major diagonal elements: 518\n",
            "Sum of minor diagonal elements: 423\n",
            "Total sum: 941\n"
          ]
        }
      ],
      "source": [
        "sum_major = 0\n",
        "sum_minor = 0\n",
        "\n",
        "# Duyệt qua từng phần tử của ma trận\n",
        "for i in range(len(A)):\n",
        "    for j in range(len(A[0])):\n",
        "        # Kiểm tra xem phần tử đó có nằm trên đường chéo chính hay không\n",
        "        if i == j:\n",
        "            sum_major += A[i][j]\n",
        "        # Kiểm tra xem phần tử đó có nằm trên đường chéo phụ hay không\n",
        "        if i + j == len(A) - 1:\n",
        "            sum_minor += A[i][j]\n",
        "\n",
        "# Trừ đi các phần tử trùng nhau giữa đường chéo chính và đường chéo phụ\n",
        "if len(A) % 2 == 1:\n",
        "    common_element = A[len(A) // 2][len(A) // 2]\n",
        "    sum_minor -= common_element\n",
        "    sum_major -= common_element\n",
        "\n",
        "# In ra tổng các phần tử trên đường chéo chính và đường chéo phụ\n",
        "print(\"Sum of major diagonal elements:\", sum_major)\n",
        "print(\"Sum of minor diagonal elements:\", sum_minor)\n",
        "print(\"Total sum:\", sum_major + sum_minor)\n"
      ]
    },
    {
      "cell_type": "code",
      "execution_count": null,
      "metadata": {
        "colab": {
          "base_uri": "https://localhost:8080/"
        },
        "id": "I80HRm9Y3Kin",
        "outputId": "f8d0bce5-a984-4c13-f450-2a54bd447e9e"
      },
      "outputs": [
        {
          "name": "stdout",
          "output_type": "stream",
          "text": [
            "45\n"
          ]
        }
      ],
      "source": [
        "B = A.copy()\n",
        "\n",
        "sum = 0\n",
        "\n",
        "for i in range(len(A)):\n",
        "    sum += i\n",
        "\n",
        "print(sum)\n"
      ]
    },
    {
      "cell_type": "markdown",
      "metadata": {
        "id": "XXAg4cZVL6bP"
      },
      "source": [
        "Write python code:\n",
        "\n",
        "Given a table containing the values of the coordinate points of the graph (x) = c1 + c2x + c3 * x ** 2  + c4 * x ** 3\n",
        "\n",
        "x: 1, 2, 3, 4\n",
        "\n",
        "fx: 1000, 2000, 3000, 4000\n",
        "\n",
        "Find the coefficients c1, c2, c3, c4"
      ]
    },
    {
      "cell_type": "code",
      "execution_count": 1,
      "metadata": {
        "colab": {
          "base_uri": "https://localhost:8080/"
        },
        "id": "ZbpMdEPLL3Sv",
        "outputId": "fd9680b8-3a2f-4271-b8c3-c45e0ab4e9a7"
      },
      "outputs": [
        {
          "name": "stdout",
          "output_type": "stream",
          "text": [
            "c1 = 2.869637683033943e-10, c2 = 999.9999999995498, c3 = 1.9933092213839895e-10, c4 = -2.627429138452921e-11\n"
          ]
        }
      ],
      "source": [
        "# Define the values of x and fx\n",
        "x = np.array([1, 2, 3, 4])\n",
        "fx = np.array([1000, 2000, 3000, 4000])\n",
        "\n",
        "# Define the matrix A and the vector b for the linear system Ax = b\n",
        "A = np.array([\n",
        "    [1, x[0], x[0]**2, x[0]**3],\n",
        "    [1, x[1], x[1]**2, x[1]**3],\n",
        "    [1, x[2], x[2]**2, x[2]**3],\n",
        "    [1, x[3], x[3]**2, x[3]**3]\n",
        "])\n",
        "b = fx.reshape((-1, 1))\n",
        "\n",
        "# Solve the linear system using the method of least squares\n",
        "coeffs = np.linalg.solve(np.matmul(A.T, A), np.matmul(A.T, b))\n",
        "\n",
        "# Print the coefficients c1, c2, c3, c4\n",
        "c1, c2, c3, c4 = coeffs.flatten()\n",
        "print(f\"c1 = {c1}, c2 = {c2}, c3 = {c3}, c4 = {c4}\")\n"
      ]
    }
  ],
  "metadata": {
    "colab": {
      "provenance": []
    },
    "kernelspec": {
      "display_name": "Python 3",
      "name": "python3"
    },
    "language_info": {
      "name": "python"
    }
  },
  "nbformat": 4,
  "nbformat_minor": 0
}