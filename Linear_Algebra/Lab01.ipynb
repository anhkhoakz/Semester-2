{
    "nbformat": 4,
    "nbformat_minor": 0,
    "metadata": {
        "colab": {
            "provenance": [],
            "authorship_tag": "ABX9TyNpu7mNxZPijc0EnNla0M9/"
        },
        "kernelspec": {
            "name": "python3",
            "display_name": "Python 3"
        },
        "language_info": {
            "name": "python"
        }
    },
    "cells": [
        {
            "cell_type": "markdown",
            "source": [
                "1) Write a command to create vectors and get the number of elements in each vector. x =  (1 3 5 2 9) and y =  (-1  3 15 27 29)"
            ],
            "metadata": {
                "id": "DbMGtR4lTZwR"
            }
        },
        {
            "cell_type": "code",
            "source": [
                "import numpy as np\n",
                "\n",
                "x = [1, 3, 5, 2, 9]\n",
                "y = [-1, 3, 15, 27, 29]\n",
                "\n",
                "vx = np.array(x)\n",
                "vy = np.array(y)\n",
                "\n",
                "print(\"x = \", vx)\n",
                "print(\"y = \", vy)\n",
                "\n",
                "print(\"The number of elements in vector x =\", len(vx))\n",
                "print(\"The number of elements in vector y =\", len(vy))\n",
                "\n",
                "print(\"vector x + vector y =\", vx + vy)"
            ],
            "metadata": {
                "colab": {
                    "base_uri": "https://localhost:8080/"
                },
                "id": "15yX0tVwS1cI",
                "executionInfo": {
                    "status": "ok",
                    "timestamp": 1677911576689,
                    "user_tz": -420,
                    "elapsed": 2,
                    "user": {
                        "displayName": "Nguyễn Huỳnh Anh Khoa",
                        "userId": "02658232784182434736"
                    }
                },
                "outputId": "c4472025-6d29-444a-a799-0aa9596af581"
            },
            "execution_count": null,
            "outputs": [
                {
                    "output_type": "stream",
                    "name": "stdout",
                    "text": [
                        "x =  [1 3 5 2 9]\n",
                        "y =  [-1  3 15 27 29]\n",
                        "The number of elements in vector x = 5\n",
                        "The number of elements in vector y = 5\n",
                        "vector x + vector y = [ 0  6 20 29 38]\n"
                    ]
                }
            ]
        },
        {
            "cell_type": "markdown",
            "source": [
                "2) Write a command to create the following vectors with n elements (user-defined variable)"
            ],
            "metadata": {
                "id": "7sb5jzhfU1pY"
            }
        },
        {
            "cell_type": "code",
            "source": [
                "import numpy as np\n",
                "\n",
                "n = int(input(\"Nhap vao so n: \"))\n",
                "\n",
                "b = []\n",
                "for i in np.arange(0, n):\n",
                "  b.append(12 + i * 2)\n",
                "print(\"a) b =\", np.array(b))\n",
                "\n",
                "c = []\n",
                "for i in np.arange(0, n):\n",
                "  c.append(31 + i * 2)\n",
                "print(\"b) c =\", np.array(c))\n",
                "\n",
                "x = []\n",
                "for i in np.arange(0, n):\n",
                "  x.append(int(-n/2) + i)\n",
                "print(\"c) x =\", np.array(x))\n",
                "\n",
                "y = []\n",
                "for i in np.arange(0, n):\n",
                "  y.append(int(n/2) - i)\n",
                "print(\"d) y =\", np.array(y))\n",
                "\n",
                "z = []\n",
                "for i in np.arange(0, 8):\n",
                "  z.append(10 - i * 2)\n",
                "print(\"e) z =\", np.array(z))\n",
                "\n",
                "w = []\n",
                "for i in np.arange(0, n):\n",
                "  w.append(1/(2 ** i))\n",
                "print(\"f) w =\", np.array(w))\n",
                "\n",
                "d = []\n",
                "f0 = 0\n",
                "f1 = 1\n",
                "fn = 1\n",
                "fibonaci = [1, 1]\n",
                "for i in np.arange(2, n):\n",
                "  fibonaci.append(fibonaci[i - 2] + fibonaci[i - 1])\n",
                "\n",
                "for i in np.arange(0, n):\n",
                "  d.append(1 / fibonaci[i])\n",
                "print(\"g) d =\", np.array(d))\n",
                "\n"
            ],
            "metadata": {
                "colab": {
                    "base_uri": "https://localhost:8080/"
                },
                "id": "v0M7oZ0aU5A-",
                "executionInfo": {
                    "status": "ok",
                    "timestamp": 1677916347751,
                    "user_tz": -420,
                    "elapsed": 2883,
                    "user": {
                        "displayName": "Nguyễn Huỳnh Anh Khoa",
                        "userId": "02658232784182434736"
                    }
                },
                "outputId": "6ac26b97-3012-44fc-92d1-6924aca3b164"
            },
            "execution_count": null,
            "outputs": [
                {
                    "output_type": "stream",
                    "name": "stdout",
                    "text": [
                        "Nhap vao so n: 12\n",
                        "a) b = [12 14 16 18 20 22 24 26 28 30 32 34]\n",
                        "b) c = [31 33 35 37 39 41 43 45 47 49 51 53]\n",
                        "c) x = [-6 -5 -4 -3 -2 -1  0  1  2  3  4  5]\n",
                        "d) y = [ 6  5  4  3  2  1  0 -1 -2 -3 -4 -5]\n",
                        "e) z = [10  8  6  4  2  0 -2 -4]\n",
                        "f) w = [1.0000000e+00 5.0000000e-01 2.5000000e-01 1.2500000e-01 6.2500000e-02\n",
                        " 3.1250000e-02 1.5625000e-02 7.8125000e-03 3.9062500e-03 1.9531250e-03\n",
                        " 9.7656250e-04 4.8828125e-04]\n",
                        "g) d = [1.         1.         0.5        0.33333333 0.2        0.125\n",
                        " 0.07692308 0.04761905 0.02941176 0.01818182 0.01123596 0.00694444]\n"
                    ]
                }
            ]
        },
        {
            "cell_type": "code",
            "source": [
                "import numpy as np\n",
                "\n",
                "n = int(input(\"Nhap vao so n: \"))\n",
                "\n",
                "b, c, x, y, w = [], [], [], [], []\n",
                "\n",
                "for i in np.arange(0, n):\n",
                "  b.append(12 + i * 2)\n",
                "  c.append(31 + i * 2)\n",
                "  x.append(int(-n/2) + i)\n",
                "  y.append(int(n/2) - i)\n",
                "  w.append(1/(2 ** i))\n",
                "\n",
                "print(\"a) b =\", np.array(b))\n",
                "print(\"b) c =\", np.array(c))\n",
                "print(\"c) x =\", np.array(x))\n",
                "print(\"d) y =\", np.array(y))\n",
                "print(\"e) w =\", np.array(w))\n"
            ],
            "metadata": {
                "colab": {
                    "base_uri": "https://localhost:8080/"
                },
                "id": "9W-dcvpUZnDG",
                "executionInfo": {
                    "status": "ok",
                    "timestamp": 1677912934956,
                    "user_tz": -420,
                    "elapsed": 3211,
                    "user": {
                        "displayName": "Nguyễn Huỳnh Anh Khoa",
                        "userId": "02658232784182434736"
                    }
                },
                "outputId": "a4de42f5-203e-4093-f2ed-a70bb5620b81"
            },
            "execution_count": null,
            "outputs": [
                {
                    "output_type": "stream",
                    "name": "stdout",
                    "text": [
                        "Nhap vao so n: 12\n",
                        "a) b = [12, 14, 16, 18, 20, 22, 24, 26, 28, 30, 32, 34]\n",
                        "b) c = [31, 33, 35, 37, 39, 41, 43, 45, 47, 49, 51, 53]\n",
                        "c) x = [-6, -5, -4, -3, -2, -1, 0, 1, 2, 3, 4, 5]\n"
                    ]
                }
            ]
        },
        {
            "cell_type": "markdown",
            "source": [
                "[NumPy Array Slicing](https://www.w3schools.com/python/numpy/numpy_array_slicing.asp)"
            ],
            "metadata": {
                "id": "fuMDG1MOoRDi"
            }
        },
        {
            "cell_type": "markdown",
            "source": [
                "[Python Program to check Armstrong Number](https://www.geeksforgeeks.org/python-program-to-check-armstrong-number/)"
            ],
            "metadata": {
                "id": "2b85rVDTppji"
            }
        },
        {
            "cell_type": "markdown",
            "source": [
                "6) Let x = 0 2 4 6 8 10 12 14 16 18 20. Write a command to perform the following:\n",
                "\n",
                "(a) Take the first sixth elements in the vector x\n",
                "\n",
                "(b) Take the last fifth elements in the vector x\n",
                "\n",
                "(c) Take the first, fourth, and last elements in the vector x\n",
                "\n",
                "(d) Take the first, third, fifth, and seventh elements in the vector x\n",
                "\n",
                "(e) Take the elements with the odd indices in the vector x\n",
                "\n",
                "(f) Take the elements with the even indices in the vector x"
            ],
            "metadata": {
                "id": "3rSQBKx3dIo4"
            }
        },
        {
            "cell_type": "code",
            "source": [
                "import numpy as np\n",
                "\n",
                "vx = np.arange(0, 21, 2)\n",
                "\n",
                "print(\"the first sixth elements in the vector x:\", vx[:6])\n",
                "print(\"the last fifth elements in the vector x:\", vx[6:])\n",
                "print(\"the first, fourth, and last elements in the vector x:\", vx[[1, 4, -1]])\n",
                "print(\"the first, third, fifth, and seventh elements in the vector x:\", vx[:8:2])\n",
                "print(\"the elements with the odd indices in the vector x:\", vx[::2])\n",
                "print(\"the elements with the even indices in the vector x:\", vx[1::2])\n"
            ],
            "metadata": {
                "colab": {
                    "base_uri": "https://localhost:8080/"
                },
                "id": "FeM76mjzqtay",
                "executionInfo": {
                    "status": "ok",
                    "timestamp": 1678200426225,
                    "user_tz": -420,
                    "elapsed": 8,
                    "user": {
                        "displayName": "Nguyễn Huỳnh Anh Khoa",
                        "userId": "02658232784182434736"
                    }
                },
                "outputId": "47f0bb18-a220-4393-c576-cb1cd14216c0"
            },
            "execution_count": null,
            "outputs": [
                {
                    "output_type": "stream",
                    "name": "stdout",
                    "text": [
                        "the first sixth elements in the vector x: [ 0  2  4  6  8 10]\n",
                        "the last fifth elements in the vector x: [12 14 16 18 20]\n",
                        "the first, fourth, and last elements in the vector x: [ 2  8 20]\n",
                        "the first, third, fifth, and seventh elements in the vector x: [ 0  4  8 12]\n",
                        "the elements with the odd indices in the vector x: [ 0  4  8 12 16 20]\n",
                        "the elements with the even indices in the vector x: [ 2  6 10 14 18]\n"
                    ]
                }
            ]
        },
        {
            "cell_type": "markdown",
            "source": [
                "Let x = (3 11 −9 −131 −1 1 −11 91 −6 407 −12 −11 12 153 371)\n",
                "\n",
                "(a) Find the maximize in the vector x.\n",
                "\n",
                "(b) Find the minimize in the vector x.\n",
                "\n",
                "(c) Find the index of the values of x that are greater than 10.\n",
                "\n",
                "(d) Write command to reverse x vector.\n",
                "\n",
                "(e) Write command to sort x vector in ascending order.\n",
                "\n",
                "(f) Write command to sort x vector in descending order.\n",
                "\n",
                "(g) Write command to count how many times have that xi + xj = 0,(i 6= j).\n",
                "\n",
                "(h) Write command to count total number of duplicate elements in x vector.\n",
                "\n",
                "(i) Write command to create a new y vector which yi = xi + xn−i−1, where n is the length of x\n",
                "vector.\n",
                "\n",
                "(j) Write command to create a new w vector which contains Armstrong/ Narcissistic numbers in x\n",
                "vector.\n",
                "\n",
                "Hint: Definition of Armstrong/ Narcissistic number: a given number base b is a number\n",
                "that is the sum of its own digits each raised to the power of the number of digits. For example,\n",
                "the number 153 in base b = 3 is a Narcissistic number, because b = 3 and 153 = 13 + 53 + 33\n",
                "\n",
                "(k) Write command to delete all negative numbers in x vector.\n",
                "\n",
                "(l) Write command to find median value in x vector.\n",
                "\n",
                "(m) Write command to calculate the sum of all values which are less than mean value in x vector.\n",
                "\n",
                "(n) Write command to create a new vector which each negative value is replaced by its absolute value."
            ],
            "metadata": {
                "id": "TFq7tjLPdIia"
            }
        },
        {
            "cell_type": "code",
            "source": [
                "import numpy as np\n",
                "\n",
                "x = np.array([3, 11, -9, -131, -1, 1, -11, 91, -6, 407, -12, -11, 12, 153, 371])\n",
                "x_length = len(x)\n",
                "x_sorted = np.sort(x)\n",
                "\n",
                "# (a) Find the maximize in the vector x.\n",
                "print(\"the maximize in the vector x:\", max(x))\n",
                "\n",
                "# (b) Find the minimize in the vector x.\n",
                "print(\"the minimize in the vector x:\", min(x))\n",
                "\n",
                "# (c) Find the index of the values of x that are greater than 10.\n",
                "list_index_values_greater_10 = []\n",
                "for i in range(x_length):\n",
                "    if x[i] > 10:\n",
                "        list_index_values_greater_10.append(i)\n",
                "print(\"the index of the values of x that are greater than 10:\", list_index_values_greater_10)\n",
                "# print(\"the index of the values of x that are greater than 10:\", np.where(x > 10))\n",
                "\n",
                "# (d) Write command to reverse x vector.\n",
                "print('reversed x vector:', x[::-1])\n",
                "\n",
                "# (e) Write command to sort x vector in ascending order.\n",
                "print(\"sort x vector in ascending order:\", np.sort(x))\n",
                "\n",
                "# (f) Write command to sort x vector in descending order.\n",
                "print(\"sort x vector in descending order:\", np.sort(x, -1)[::-1])\n",
                "\n",
                "# (g) Write command to count how many times have that xi + xj = 0,(i 6= j).\n",
                "count = 0\n",
                "for i in range(x_length):\n",
                "    for j in range(i + 1, x_length):\n",
                "        if x[i] + x[j] == 0:\n",
                "            count += 1\n",
                "print(\"number of times xi + xj = 0:\", count)\n",
                "\n",
                "# (h) Write command to count total number of duplicate elements in x vector.\n",
                "count = 0\n",
                "for i in range(x_length):\n",
                "    for j in range(i + 1, x_length):\n",
                "        if x[i] == x[j]:\n",
                "            count += 1\n",
                "# count = len(x) - len(np.unique(x))\n",
                "print(\"number of duplicate elements in x vector:\", count)\n",
                "\n",
                "# (i) Write command to create a new y vector which yi = xi + xn−i−1, where n is the length of x vector.\n",
                "import numpy as np\n",
                "\n",
                "x = np.array([3, 11, -9, -131, -1, 1, -11, 91, -6, 407, -12, -11, 12, 153, 371])\n",
                "n = len(x)\n",
                "y = []\n",
                "\n",
                "for i in range(n):\n",
                "    y.append(x[i] + x[n-1-i])\n",
                "\n",
                "y = np.array(y)\n",
                "print(\"The new y vector is:\", y)\n",
                "\n",
                "# (j) Write command to create a new w vector which contains Armstrong/ Narcissistic numbers in x vector.\n",
                "w = []\n",
                "\n",
                "for num in x:\n",
                "  if num < 0:\n",
                "    continue\n",
                "  str_num = str(num)\n",
                "  sum = 0\n",
                "  for digit in str_num:\n",
                "    sum += int(digit) ** 3\n",
                "  \n",
                "  if num == sum:\n",
                "    w.append(num)\n",
                "  \n",
                "w = np.array(w)\n",
                "\n",
                "print(\"a new w vector which contains Armstrong/ Narcissistic numbers in x vector:\", w)\n",
                "\n",
                "\n",
                "# (k) Write command to delete all negative numbers in x vector.\n",
                "\n",
                "w = []\n",
                "\n",
                "for num in x:\n",
                "  if num < 0:\n",
                "    continue\n",
                "  w.append(num)\n",
                "\n",
                "print(\"delete all negative numbers in x vector:\", w)\n",
                "# (l) Write command to find median value in x vector.\n",
                "\n",
                "if n % 2 == 0:\n",
                "  median = (x_sorted[n//2 - 1] + x_sorted[n // 2]) /2 \n",
                "else:\n",
                "  median = x_sorted[n//2]\n",
                "\n",
                "print(\"median value in x vector:\", median)\n",
                "\n",
                "# (m) Write command to calculate the sum of all values which are less than mean value in x vector.\n",
                "\n",
                "x_sum = 0\n",
                "\n",
                "for num in x:\n",
                "  x_sum += num\n",
                "  n += 1\n",
                "\n",
                "mean = x_sum / x_length\n",
                "\n",
                "sum_less_mean = 0\n",
                "\n",
                "for num in x:\n",
                "  if num < mean:\n",
                "    sum_less_mean += num\n",
                "  \n",
                "print(\"he sum of all values which are less than mean value in x vector:\", sum_less_mean)\n",
                "\n",
                "# (n) Write command to create a new vector which each negative value is replaced by its absolute value.\n",
                "w = []\n",
                "\n",
                "for num in x:\n",
                "  if num < 0:\n",
                "    w.append(num * -1)\n",
                "  else:\n",
                "    w.append(num)\n",
                "  \n",
                "print(\"a new vector which each negative value is replaced by its absolute value:\", w)\n"
            ],
            "metadata": {
                "colab": {
                    "base_uri": "https://localhost:8080/"
                },
                "id": "nB9Qo9j9hjJm",
                "executionInfo": {
                    "status": "ok",
                    "timestamp": 1678450917003,
                    "user_tz": -420,
                    "elapsed": 17,
                    "user": {
                        "displayName": "Nguyễn Huỳnh Anh Khoa",
                        "userId": "02658232784182434736"
                    }
                },
                "outputId": "698b318b-70ec-46fc-e088-68d6812464ee"
            },
            "execution_count": 7,
            "outputs": [
                {
                    "output_type": "stream",
                    "name": "stdout",
                    "text": [
                        "the maximize in the vector x: 407\n",
                        "the minimize in the vector x: -131\n",
                        "the index of the values of x that are greater than 10: [1, 7, 9, 12, 13, 14]\n",
                        "reversed x vector: [ 371  153   12  -11  -12  407   -6   91  -11    1   -1 -131   -9   11\n",
                        "    3]\n",
                        "sort x vector in ascending order: [-131  -12  -11  -11   -9   -6   -1    1    3   11   12   91  153  371\n",
                        "  407]\n",
                        "sort x vector in descending order: [ 407  371  153   91   12   11    3    1   -1   -6   -9  -11  -11  -12\n",
                        " -131]\n",
                        "number of times xi + xj = 0: 4\n",
                        "number of duplicate elements in x vector: 1\n",
                        "The new y vector is: [ 374  164    3 -142  -13  408  -17  182  -17  408  -13 -142    3  164\n",
                        "  374]\n",
                        "a new w vector which contains Armstrong/ Narcissistic numbers in x vector: [  1 407 153 371]\n",
                        "delete all negative numbers in x vector: [3, 11, 1, 91, 407, 12, 153, 371]\n",
                        "median value in x vector: 1\n",
                        "he sum of all values which are less than mean value in x vector: -154\n",
                        "a new vector which each negative value is replaced by its absolute value: [3, 11, 9, 131, 1, 1, 11, 91, 6, 407, 12, 11, 12, 153, 371]\n"
                    ]
                }
            ]
        },
        {
            "cell_type": "code",
            "source": [
                "if"
            ],
            "metadata": {
                "id": "wtyYUDOIatno"
            },
            "execution_count": null,
            "outputs": []
        }
    ]
}