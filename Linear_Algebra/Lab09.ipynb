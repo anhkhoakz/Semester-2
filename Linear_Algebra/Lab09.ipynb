{
  "cells": [
    {
      "cell_type": "code",
      "execution_count": null,
      "metadata": {
        "colab": {
          "base_uri": "https://localhost:8080/",
          "height": 1000
        },
        "id": "w-4D9X_9uBUK",
        "outputId": "14f02759-efc8-4acc-defe-7ab8d68e0cb7"
      },
      "outputs": [],
      "source": [
        "# bai 9\n",
        "\n",
        "import numpy as np\n",
        "import matplotlib.pyplot as plt\n",
        "\n",
        "# house's matrix\n",
        "pts = np.array(\n",
        "    [\n",
        "        [0, 1, 3, 3, 4, 4, 5, 6, 5, 5, 3, 3, 2, 2, 1, 1, 0],\n",
        "        [2, 3, 3, 4, 4, 3, 3, 2, 2, 0, 0, 1, 1, 0, 0, 2, 2],\n",
        "    ]\n",
        ")\n",
        "\n",
        "# ----cau a----\n",
        "# set translation values - dat cac gia tri tinh tien\n",
        "dx = 2\n",
        "dy = 5\n",
        "\n",
        "# ma tran tinh tien - cong cac gia tri ma tran ban dau vao ma tran tinh tien\n",
        "transV = [[dx], [dy]]\n",
        "\n",
        "# ma tran sau khi tinh tien\n",
        "trans_pts = np.add(transV, pts)\n",
        "print(\"trans_pts =\\n\", trans_pts)\n",
        "\n",
        "# Before translation - truoc tinh tien\n",
        "plt.plot(pts[0], pts[1], \"r-\")\n",
        "\n",
        "# After translation - sau tinh tien\n",
        "plt.plot(trans_pts[0], trans_pts[1], \"go-\")\n",
        "plt.title(\"Translation\")\n",
        "plt.show()\n",
        "\n",
        "# ----cau b----\n",
        "transVb = np.array(\n",
        "    [[np.cos(np.pi / 3), -np.sin(np.pi / 3)], [np.sin(np.pi / 3), np.cos(np.pi / 3)]]\n",
        ")\n",
        "\n",
        "trans_ptsb = np.matmul(transVb, pts)\n",
        "print(\"trans_ptsb =\\n\", trans_ptsb)\n",
        "\n",
        "# Before rotation - truoc khi xoay\n",
        "plt.plot(pts[0], pts[1], \"r-\")\n",
        "\n",
        "# After rotation - sau khi xoay\n",
        "plt.plot(trans_ptsb[0], trans_ptsb[1], \"go-\")\n",
        "plt.title(\"Rotation\")\n",
        "plt.show()\n",
        "\n",
        "# ----cau c----\n",
        "# set scaling values - dat cac gia tri boi so\n",
        "Sx = 2\n",
        "Sy = 3\n",
        "\n",
        "# ma tran boi so\n",
        "transVc = [[Sx], [Sy]]\n",
        "\n",
        "trans_ptsc = pts * transVc\n",
        "print(\"trans_ptsc =\\n\", trans_ptsc)\n",
        "\n",
        "# Before scaling - truoc khi nhan ti le\n",
        "plt.plot(pts[0], pts[1], \"r-\")\n",
        "\n",
        "# After scaling - sai khi nhan ti le\n",
        "plt.plot(trans_ptsc[0], trans_ptsc[1], \"go-\")\n",
        "plt.title(\"Scaling\")\n",
        "plt.show()\n",
        "\n",
        "# ----cau d----\n",
        "# set shear values - dat cac gia tri ti le\n",
        "Sxd = 0.5\n",
        "Syd = -1.5\n",
        "\n",
        "# ma tran ti le\n",
        "Shearx = np.array([[1, 0], [Sxd, 1]])\n",
        "Sheary = np.array([[1, Syd], [0, 1]])\n",
        "\n",
        "# trans_ptsd = np.matmul(Shearx, pts)\n",
        "trans_ptsd = np.matmul(Sheary, pts)\n",
        "\n",
        "print(\"trans_ptsd =\\n\", trans_ptsd)\n",
        "\n",
        "# Before shear - truoc khi ti le\n",
        "plt.plot(pts[0], pts[1], \"r-\")\n",
        "\n",
        "# After shear - sau khi ti le\n",
        "plt.plot(trans_ptsd[0], trans_ptsd[1], \"go-\")\n",
        "plt.title(\"Shear\")\n",
        "plt.show()"
      ]
    },
    {
      "cell_type": "code",
      "execution_count": null,
      "metadata": {
        "colab": {
          "base_uri": "https://localhost:8080/",
          "height": 452
        },
        "id": "sRdnkX6p8B9-",
        "outputId": "7cf47340-438c-4eaf-fb19-b34a089b4529"
      },
      "outputs": [],
      "source": [
        "# bai 10\n",
        "\n",
        "import numpy as np\n",
        "import matplotlib.pyplot as plt\n",
        "\n",
        "pts = np.array([[1, 3, 1, 1], [1, 1, 3, 1]])\n",
        "\n",
        "# np.eye: tao ma tran don vi cap n\n",
        "I = np.eye(2)\n",
        "\n",
        "I_pts = np.matmul(-I, pts)\n",
        "\n",
        "# before\n",
        "plt.plot(pts[0], pts[1], \"r-\")\n",
        "\n",
        "# after\n",
        "plt.plot(I_pts[0], I_pts[1], \"go-\")\n",
        "plt.title(\"Translation\")\n",
        "plt.show()"
      ]
    },
    {
      "cell_type": "code",
      "execution_count": null,
      "metadata": {
        "colab": {
          "base_uri": "https://localhost:8080/",
          "height": 503
        },
        "id": "SuxZ3kP68p1S",
        "outputId": "e0568234-9161-4324-fb0a-bf069e90d3d8"
      },
      "outputs": [],
      "source": [
        "# bai 11\n",
        "\n",
        "import numpy as np\n",
        "import matplotlib.pyplot as plt\n",
        "\n",
        "# 1st row is x-values, and 2nd row is y-values\n",
        "pts = np.array(\n",
        "    [\n",
        "        [2, 2, -3, -3, -2, -2, 0, 0.0, -2.0, -2, 2],\n",
        "        [4, 5, 5, -5, -5, -0.5, -0.5, 0.5, 0.5, 4, 4],\n",
        "    ]\n",
        ")\n",
        "\n",
        "pts = np.vstack((pts, np.ones(pts.shape[1])))\n",
        "\n",
        "print(pts)\n",
        "\n",
        "T2 = [[-1, 0, 0], [0, -1, 0], [0, 0, 1]]\n",
        "transform_pts = np.matmul(T2, pts)\n",
        "\n",
        "f = plt.figure()\n",
        "f.set_figwidth(5)\n",
        "f.set_figheight(5)\n",
        "\n",
        "plt.fill(pts[0], pts[1], \"b\")\n",
        "plt.fill(transform_pts[0], transform_pts[1], \"r\")\n",
        "plt.xlim(-10, 10)\n",
        "plt.ylim(-10, 10)\n",
        "plt.grid(linestyle=\"--\")\n",
        "\n",
        "plt.show()"
      ]
    },
    {
      "cell_type": "code",
      "execution_count": null,
      "metadata": {
        "colab": {
          "base_uri": "https://localhost:8080/"
        },
        "id": "unQ8vB0qmwYX",
        "outputId": "a399f6ee-eb76-4e95-d21a-77418afc87dd"
      },
      "outputs": [],
      "source": [
        "# bai 12\n",
        "\n",
        "import numpy as np\n",
        "\n",
        "x = np.array([2015, 2016, 2017, 2018, 2019])  # years\n",
        "y = np.array([12, 19, 29, 37, 45])  # million dollar\n",
        "\n",
        "arr_x = np.column_stack((x, np.ones_like(x)))\n",
        "\n",
        "print(\"arr_x = \\n\", arr_x)\n",
        "\n",
        "res = np.linalg.lstsq(arr_x, y, rcond=None)[0]\n",
        "\n",
        "print(\"\\n\", res)\n",
        "\n",
        "res1 = round(res[0], 5)\n",
        "res2 = round(res[1], 5)\n",
        "\n",
        "print(\"\\nres[1] =\", res1)\n",
        "print(\"res[2] =\", res2)\n",
        "\n",
        "print(\"\\nThe sale in 2020 =\", round((res1 * 2020 + res2), 5))"
      ]
    },
    {
      "cell_type": "code",
      "execution_count": null,
      "metadata": {
        "colab": {
          "base_uri": "https://localhost:8080/"
        },
        "id": "gLesQGnJ6Q03",
        "outputId": "495863cd-2075-42d5-a357-ba03fe03b0eb"
      },
      "outputs": [],
      "source": [
        "# bai 13\n",
        "\n",
        "import numpy as np\n",
        "\n",
        "A = np.array([[1, 2], [0, -3], [2, 6]])\n",
        "\n",
        "b = np.array([1, 1, 0])\n",
        "\n",
        "print(\"A = \\n\", A)\n",
        "print(\"\\nb = \\n\", b)\n",
        "\n",
        "res = np.linalg.lstsq(A, b, rcond=None)[0]\n",
        "\n",
        "res_vector = A.dot(res)\n",
        "\n",
        "print(\"\\nResult = \", res_vector)"
      ]
    }
  ],
  "metadata": {
    "colab": {
      "provenance": []
    },
    "kernelspec": {
      "display_name": "Python 3",
      "name": "python3"
    },
    "language_info": {
      "codemirror_mode": {
        "name": "ipython",
        "version": 3
      },
      "file_extension": ".py",
      "mimetype": "text/x-python",
      "name": "python",
      "nbconvert_exporter": "python",
      "pygments_lexer": "ipython3",
      "version": "3.11.3"
    }
  },
  "nbformat": 4,
  "nbformat_minor": 0
}