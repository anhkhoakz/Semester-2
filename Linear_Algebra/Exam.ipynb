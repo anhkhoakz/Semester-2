{
  "nbformat": 4,
  "nbformat_minor": 0,
  "metadata": {
    "colab": {
      "provenance": []
    },
    "kernelspec": {
      "name": "python3",
      "display_name": "Python 3"
    },
    "language_info": {
      "name": "python"
    }
  },
  "cells": [
    {
      "cell_type": "code",
      "execution_count": null,
      "metadata": {
        "id": "Iifghr5N-DvA"
      },
      "outputs": [],
      "source": [
        "import numpy as np\n",
        "import sympy as sp\n",
        "from matplotlib import pyplot as plt"
      ]
    },
    {
      "cell_type": "markdown",
      "source": [
        "#Câu 1"
      ],
      "metadata": {
        "id": "pJwLdRnX-H59"
      }
    },
    {
      "cell_type": "code",
      "source": [
        "import numpy as np \n",
        "import matplotlib.pyplot as plt\n",
        "\n",
        "X = np.array([\n",
        "    [1, 1, 1],\n",
        "    [9, 3, 1],\n",
        "    [6**2, 6, 1],\n",
        "    [7**2, 7, 1]\n",
        "])\n",
        "\n",
        "Y = np.array([7, 2, 1, 2]).T\n",
        "\n",
        "res = np.linalg.lstsq(X, Y, rcond=None)[0]\n",
        "\n",
        "a, b, c = round(res[0], 5), round(res[1], 5), round(res[2], 5)\n",
        "\n",
        "print(\"a =\", a, end = \"\\t\")\n",
        "print(\"b =\", b, end = \"\\t\")\n",
        "print(\"c =\", c, end = \"\\t\")\n",
        "\n",
        "y = lambda x: a*x**2 + b*x + c\n",
        "\n",
        "x_arr = np.arange(0, 6.1, 0.1)\n",
        "y_arr = y(x_arr)\n",
        "\n",
        "plt.scatter([1, 3, 6, 7], Y, color= \"blue\", label = \"Data Points\")\n",
        "plt.plot(x_arr, y_arr, color = \"green\", label = \"Least Squares Line\")\n",
        "plt.xlabel('X')\n",
        "plt.ylabel('Y')\n",
        "plt.title('Least Squares Approximation')\n",
        "plt.legend()\n",
        "plt.show()\n",
        "\n",
        "print(\"\\nVậy nếu x = 10 thì y =\", round(y(10), 5))"
      ],
      "metadata": {
        "colab": {
          "base_uri": "https://localhost:8080/",
          "height": 524
        },
        "id": "S0jTc4GJ-nuE",
        "outputId": "b43b4cf9-3bdf-4f9c-d54c-6f6623da61a9"
      },
      "execution_count": null,
      "outputs": [
        {
          "output_type": "stream",
          "name": "stdout",
          "text": [
            "a = 0.40678\tb = -4.0678\tc = 10.62712\t"
          ]
        },
        {
          "output_type": "display_data",
          "data": {
            "text/plain": [
              "<Figure size 640x480 with 1 Axes>"
            ],
            "image/png": "[encoded data removed]"
          },
          "metadata": {}
        },
        {
          "output_type": "stream",
          "name": "stdout",
          "text": [
            "\n",
            "Vậy nếu x = 10 thì y = 10.62712\n"
          ]
        }
      ]
    },
    {
      "cell_type": "markdown",
      "source": [
        "# Câu 2"
      ],
      "metadata": {
        "id": "xDUp8LAm-yWM"
      }
    },
    {
      "cell_type": "code",
      "source": [
        "import numpy as np\n",
        "import sympy as sp\n",
        "\n",
        "B = np.array([\n",
        "    [-2, 2, 6, 0],\n",
        "    [0, 6, 7, 5],\n",
        "    [1, 5, 4, 6]\n",
        "])\n",
        "\n",
        "# Basis column\n",
        "res_a = sp.Matrix(B).rref()\n",
        "basisA = B[:, [int(i) for i in res_a[1]]]\n",
        "print(\"A basis column space of A =\\n\", basisA)\n",
        "\n",
        "# Basis row\n",
        "res_b = sp.Matrix(B.T).rref()\n",
        "basisA_T = B.T[:, [int(i) for i in res_b[1]]]\n",
        "print(\"\\nA basis row space of A =\\n\", basisA_T)"
      ],
      "metadata": {
        "colab": {
          "base_uri": "https://localhost:8080/"
        },
        "id": "yunMLU1J-0Ok",
        "outputId": "4efc02cb-3d4e-46f3-926e-47c19bb9ae8b"
      },
      "execution_count": null,
      "outputs": [
        {
          "output_type": "stream",
          "name": "stdout",
          "text": [
            "A basis column space of A =\n",
            " [[-2  2  0]\n",
            " [ 0  6  5]\n",
            " [ 1  5  6]]\n",
            "\n",
            "A basis row space of A =\n",
            " [[-2  0  1]\n",
            " [ 2  6  5]\n",
            " [ 6  7  4]\n",
            " [ 0  5  6]]\n"
          ]
        }
      ]
    },
    {
      "cell_type": "markdown",
      "source": [
        "# Câu 3"
      ],
      "metadata": {
        "id": "Y1Guzp4CBfV0"
      }
    },
    {
      "cell_type": "code",
      "source": [
        "import numpy as np\n",
        "import sympy as sp\n",
        "\n",
        "E = np.array([\n",
        "    [73, 134, 260, 190, 183, 167],\n",
        "    [27, 41, 90, 62, 63, 55],\n",
        "    [25, 49, 92, 68, 64, 60]\n",
        "])\n",
        "\n",
        "A = np.array([\n",
        "    [3, 4, 5],\n",
        "    [1, 3, 1],\n",
        "    [1, 1, 2]\n",
        "])\n",
        "\n",
        "D = np.matmul(np.linalg.inv(A), E)\n",
        "print(\"Matrix =\\n\", D)\n",
        "\n",
        "msg = \"\"\n",
        "\n",
        "for col in range(D.shape[1]):\n",
        "  for row in range(D.shape[0]):\n",
        "    if int(round(D[row, col], 0)) == 30:\n",
        "      msg += \" \"\n",
        "    else:\n",
        "      msg += chr(65 + int(round(D[row, col], 0)) - 4)\n",
        "\n",
        "print(\"\\nMessage:\", msg)"
      ],
      "metadata": {
        "colab": {
          "base_uri": "https://localhost:8080/"
        },
        "id": "PdGq1rH3CXgV",
        "outputId": "986db95f-9d2e-4ae3-b08b-38f6dbf98183"
      },
      "execution_count": null,
      "outputs": [
        {
          "output_type": "stream",
          "name": "stdout",
          "text": [
            "Matrix =\n",
            " [[ 9.  8. 18. 16. 22. 10.]\n",
            " [ 4.  5. 14.  8.  8.  8.]\n",
            " [ 6. 18. 30. 22. 17. 21.]]\n",
            "Message: FACEBOOK MESSENGER\n"
          ]
        }
      ]
    }
  ]
}